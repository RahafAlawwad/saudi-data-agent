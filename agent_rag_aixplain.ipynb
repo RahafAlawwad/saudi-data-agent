{
  "nbformat": 4,
  "nbformat_minor": 0,
  "metadata": {
    "colab": {
      "provenance": [],
      "authorship_tag": "ABX9TyPbGlWKS+/LzGwrymQzHPuL"
    },
    "kernelspec": {
      "name": "python3",
      "display_name": "Python 3"
    },
    "language_info": {
      "name": "python"
    }
  },
  "cells": [
    {
      "cell_type": "markdown",
      "source": [
        "# Saudi Tourism Agent\n",
        "\n",
        "The **Saudi Tourism Data Agent** is an AI-powered assistant designed to retrieve, process, and summarize Saudi tourism statistics and visa regulations. It combines multiple tools and data sources to provide answers to user queries.\n"
      ],
      "metadata": {
        "id": "ZSzhlLZ-QpUQ"
      }
    },
    {
      "cell_type": "markdown",
      "source": [
        "## Features\n",
        "\n",
        "- **Tourism Statistics Search**  \n",
        "  Fetch official reports and data from the Saudi General Authority for Statistics based on user queries (e.g., \"Tourism\", \"Domestic Travel\", \"Visa Guidelines\").\n",
        "\n",
        "- **PDF Processing**  \n",
        "  Extract relevant information from PDF files using Docling for text extraction and indexing.\n",
        "\n",
        "- **Visa Regulations Search**  \n",
        "  Search and retrieve specific rules from pre-indexed Tourist Visa Regulations PDF for quick answers to questions like \"What are the visa requirements for Umrah?\".\n",
        "\n",
        "- **Semantic Search & Q&A**  \n",
        "  Retrieve relevant content from reports and regulations using Retrieval-Augmented Generation (RAG) techniques.\n",
        "\n",
        "- **External Tool Integration (ToDo)**  \n",
        "  Connect with tools like Google Sheets for sharing outputs.\n"
      ],
      "metadata": {
        "id": "lC4bo-gQRVuY"
      }
    },
    {
      "cell_type": "markdown",
      "source": [
        "## Data Sources\n",
        "\n",
        "- **Tourism Reports**:  \n",
        "  https://www.stats.gov.sa/en/statistics-tabs\n",
        "\n",
        "- **Tourist Visa Regulations**:  \n",
        "  https://cdn.mt.gov.sa/mtportal/mt-fe-production/content/policies-regulations/documents/tourism-regulations/Tourist-Visa-Regulations.pdf\n"
      ],
      "metadata": {
        "id": "ziGzClweRlNf"
      }
    },
    {
      "cell_type": "markdown",
      "source": [
        "## Usage Example\n",
        "\n",
        "- **User Query**:  \n",
        "  \"Get Tourism Statistics related number of female employees out of total employees in tourism activities\"\n",
        "\n"
      ],
      "metadata": {
        "id": "Rubd1-M_Rppk"
      }
    },
    {
      "cell_type": "markdown",
      "source": [
        "## Setup and Configuration\n",
        "\n",
        "\n",
        "1. Set up a `.env` file or `credentials.json` file for authentication (excluded from Git using `.gitignore`).\n"
      ],
      "metadata": {
        "id": "PXGZ2CbzRxEj"
      }
    },
    {
      "cell_type": "markdown",
      "source": [
        "## 1. Install and Imports"
      ],
      "metadata": {
        "id": "Qj4n_25cVNN4"
      }
    },
    {
      "cell_type": "code",
      "execution_count": 3,
      "metadata": {
        "id": "oG7pkl_t9jNl"
      },
      "outputs": [],
      "source": [
        "%%capture\n",
        "!pip install aixplain"
      ]
    },
    {
      "cell_type": "code",
      "source": [
        "# Imports\n",
        "from dotenv import load_dotenv\n",
        "import os\n",
        "\n",
        "# Get Keys form .env\n",
        "load_dotenv()\n",
        "\n",
        "os.environ[\"TEAM_API_KEY\"] = os.getenv('TEAM_API_KEY')\n",
        "\n",
        "\n",
        "from aixplain.enums import Function, Supplier, DataType\n",
        "from aixplain.modules.model.utility_model import UtilityModelInput\n",
        "from aixplain.factories import ModelFactory, AgentFactory,IndexFactory\n",
        "from aixplain.modules.model.record import Record\n"
      ],
      "metadata": {
        "id": "zEmCWvPiOy9H"
      },
      "execution_count": null,
      "outputs": []
    },
    {
      "cell_type": "markdown",
      "source": [
        "## 2. Create Stastical Report fetching Utility"
      ],
      "metadata": {
        "id": "7ZuYpHG9VgMc"
      }
    },
    {
      "cell_type": "markdown",
      "source": [],
      "metadata": {
        "id": "Q5C7dsZTVa7n"
      }
    },
    {
      "cell_type": "code",
      "source": [
        "def download_stats_gov_pdf(topic: str = \"tourism\") -> dict:\n",
        "\n",
        "    import requests\n",
        "    from bs4 import BeautifulSoup\n",
        "    \"\"\"\n",
        "    Author: Rahaf Alawwad\n",
        "    Date: 2025-05-31\n",
        "\n",
        "    Description:\n",
        "    This utility function scrapes the Saudi GASTAT page for the latest publication titled\n",
        "    'Statistics (Establishments)' and downloads its associated PDF file.\n",
        "\n",
        "    Parameters:\n",
        "    - target_title (str): The prefix of the publication title to search for.\n",
        "\n",
        "    Output:\n",
        "    - If the PDF is found and downloaded:\n",
        "        Returns a dictionary containing:\n",
        "        {\n",
        "            \"title\": The title of the publication,\n",
        "            \"filename\": The saved PDF file name,\n",
        "            \"link\": The full URL of the PDF\n",
        "        }\n",
        "    - If no matching publication is found or the download fails:\n",
        "        Returns False.\n",
        "    \"\"\"\n",
        "\n",
        "    topic = topic[0].upper() + topic[1:]\n",
        "    target_title=f\"{topic} Statistics (Establishments)\"\n",
        "    print(topic)\n",
        "    base_url = \"https://www.stats.gov.sa\"  # Make sure base_url is defined here!\n",
        "    url = base_url + '/en/statistics-tabs?tab=436312&category=124304'\n",
        "    headers = {'User-Agent': 'Mozilla/5.0'}\n",
        "\n",
        "    response = requests.get(url, headers=headers)\n",
        "    soup = BeautifulSoup(response.text, 'html.parser')\n",
        "\n",
        "    accordion_items = soup.find_all('div', class_='accordion-item')\n",
        "    sucess_flag = False\n",
        "\n",
        "    for item in accordion_items:\n",
        "        header = item.find('a', class_='accordion-button')\n",
        "        if header:\n",
        "            title_span = header.find('span', class_='td')\n",
        "            if title_span and title_span.text.strip().startswith(target_title):\n",
        "                title = title_span.text.strip()\n",
        "                body = item.find('div', class_='accordion-body')\n",
        "                if body:\n",
        "                    pdf_link_tag = body.find('a', href=lambda href: href and '.pdf' in href)\n",
        "                    if pdf_link_tag:\n",
        "                        pdf_link = base_url + pdf_link_tag['href']\n",
        "                        filename = pdf_link.split('/')[-1].split('?')[0]\n",
        "\n",
        "                        return {\"title\": title, \"link\": pdf_link}\n",
        "\n",
        "    return \"Target File was not found\"\n",
        "\n"
      ],
      "metadata": {
        "colab": {
          "base_uri": "https://localhost:8080/"
        },
        "id": "HZU7KWGGPyhH",
        "outputId": "d3d5bf73-fc40-49e1-9fe8-58740d552753"
      },
      "execution_count": 20,
      "outputs": [
        {
          "output_type": "stream",
          "name": "stderr",
          "text": [
            "/usr/local/lib/python3.11/dist-packages/aixplain/modules/model/utility_model.py:176: UserWarning: WARNING: Non-deployed utility models (status=DRAFT) will expire after 24 hours after creation. Use .deploy() method to make the model permanent.\n",
            "  warnings.warn(\n"
          ]
        }
      ]
    },
    {
      "cell_type": "code",
      "source": [
        "# Define parameters for the utility model\n",
        "input_topic = UtilityModelInput(\n",
        "    name=\"topic\",\n",
        "    description=\"topic of stastics e.g. Tourism\",\n",
        "    type=DataType.TEXT\n",
        ")\n",
        "\n",
        "# Create and deploy the utility model\n",
        "utility = ModelFactory.create_utility_model(\n",
        "    name=\"Get Latest SA Gov Stat\",\n",
        "    description=\"Fetches 'Establishments Statistics' PDF report by year and quarter from the Saudi General Authority for Statistics website.\",\n",
        "    code=download_stats_gov_pdf,\n",
        "    inputs=[input_topic]\n",
        ")\n",
        "\n",
        "utility.deploy()\n"
      ],
      "metadata": {
        "id": "USX4M4KoF54-"
      },
      "execution_count": null,
      "outputs": []
    },
    {
      "cell_type": "markdown",
      "source": [
        "## 3. Craete Dynamic Link Indexing Utility"
      ],
      "metadata": {
        "id": "Lw1nmblzVt-P"
      }
    },
    {
      "cell_type": "code",
      "source": [
        "\n",
        "def index_docling_output(text: str, source: str = \"N/A\") -> dict:\n",
        "\n",
        "    from aixplain.factories import IndexFactory\n",
        "    from aixplain.modules.model.record import Record\n",
        "\n",
        "\n",
        "    index = IndexFactory.create(\n",
        "        name=\"Reports Index\",\n",
        "        description=\"Index for Statistics reports\"\n",
        "    )\n",
        "\n",
        "    record = Record(\n",
        "        id=\"stat-report\",\n",
        "        value=text,\n",
        "        attributes={\"source\": source}\n",
        "    )\n",
        "    index.upsert([record])\n",
        "\n",
        "    return {\"status\": \"Success\", \"source\": source, \"record_id\": \"stat-report\"}\n",
        "\n",
        "# Inputs\n",
        "input_text = UtilityModelInput(\n",
        "    name=\"text\",\n",
        "    description=\"Text content extracted by Docling\",\n",
        "    type=DataType.TEXT\n",
        ")\n",
        "\n",
        "input_source = UtilityModelInput(\n",
        "    name=\"source\",\n",
        "    description=\"Source PDF URL or identifier\",\n",
        "    type=DataType.TEXT\n",
        ")\n",
        "\n",
        "# Create the utility model\n",
        "index_util = ModelFactory.create_utility_model(\n",
        "    name=\"Index Docling Output\",\n",
        "    description=\"Indexes text extracted from PDF by Docling\",\n",
        "    code=index_docling_output,\n",
        "    inputs=[input_text, input_source]\n",
        ")\n",
        "\n",
        "index_util.deploy()\n"
      ],
      "metadata": {
        "id": "lHvcosypxYmD"
      },
      "execution_count": 65,
      "outputs": []
    },
    {
      "cell_type": "markdown",
      "source": [
        "## 4. Static indexing of Visa Regulations Document\n",
        "Assuming modified docuemnt will have the same URL"
      ],
      "metadata": {
        "id": "yZrT--wdV3s0"
      }
    },
    {
      "cell_type": "code",
      "source": [
        "# Read PDF using Docling\n",
        "docling = ModelFactory.get(\"677bee6c6eb56331f9192a91\")  # Docling model ID\n",
        "\n",
        "# Set the static link\n",
        "pdf_link = \"https://cdn.mt.gov.sa/mtportal/mt-fe-production/content/policies-regulations/documents/tourism-regulations/Tourist-Visa-Regulations-En-V012.pdf\"\n",
        "result = docling.run(pdf_link)\n",
        "extracted_text = result.data\n",
        "\n",
        "# Delete older indices (For Experimental Purposes)\n",
        "indices = IndexFactory.list(query=\"Regulations Index Tourism\")\n",
        "for index in indices[\"results\"]:\n",
        "  index.delete()\n",
        "\n",
        "# Store record\n",
        "record = Record(\n",
        "    id=\"tourist-visa-regulations\",\n",
        "    value=extracted_text,\n",
        "    attributes={\"source\": pdf_link}\n",
        ")\n",
        "\n",
        "\n",
        "# Create the index\n",
        "regulations_index = IndexFactory.create(\n",
        "    name=\"Regulations Index Tourism\",\n",
        "    description=\"Index for Saudi HR and tourism regulations\"\n",
        ")\n",
        "\n",
        "# Upload the extracted text from Docling\n",
        "record = Record(\n",
        "    id=\"tourist-visa-regulations\",\n",
        "    value=extracted_text,\n",
        "    attributes={\"source\": pdf_link}\n",
        ")\n",
        "\n",
        "regulations_index.upsert([record])\n",
        "\n",
        "print(\"Index created and record added.\")\n",
        "print(\"Index ID:\", regulations_index.id)\n",
        "\n",
        "\n",
        "# Warp the tool\n",
        "index_tool_regulations = AgentFactory.create_model_tool(\n",
        "    model=regulations_index.id,\n",
        "    description=\"Search index for Saudi HR and tourism regulations\"\n",
        ")\n"
      ],
      "metadata": {
        "colab": {
          "base_uri": "https://localhost:8080/"
        },
        "id": "_yGuwp_M8nN-",
        "outputId": "cc310fd2-c920-46ab-f79f-fa7ebf93c31b"
      },
      "execution_count": 90,
      "outputs": [
        {
          "output_type": "stream",
          "name": "stdout",
          "text": [
            "Index created and record added.\n",
            "Index ID: 683b24823828522c9caae2c8\n"
          ]
        }
      ]
    },
    {
      "cell_type": "markdown",
      "source": [
        "## 5. Create the Agent\n",
        "\n",
        "Agent Role and Instructions\n",
        "\n",
        "This agent is designed to answer questions about Saudi tourism by connecting to two distinct data sources:\n",
        "\n",
        "1. **Tourism Reports**  \n",
        "   - Source: Saudi General Authority for Statistics  \n",
        "   - Purpose: Answer questions about **tourism statistics**, such as visitor numbers, trip purposes, and travel patterns.\n",
        "   - Example Query: \"How many domestic trips were taken in 2023?\"\n",
        "\n",
        "2. **Tourist Visa Regulations PDF**  \n",
        "   - Source: Ministry of Tourism  \n",
        "   - Purpose: Answer questions about **visa rules and requirements** for different visitor categories.\n",
        "   - Example Query: \"What are the visa requirements for Umrah visitors?\"\n",
        "\n",
        "**Routing Logic**  \n",
        "The agent automatically determines the correct source based on the query:\n",
        "- If the query relates to **numbers, trends, or data** → route to **Tourism Reports**.\n",
        "- If the query relates to **rules, policies, or requirements** → route to **Tourist Visa Regulations**.\n",
        "\n"
      ],
      "metadata": {
        "id": "_OQqkreKWo_P"
      }
    },
    {
      "cell_type": "code",
      "source": [
        "agent = AgentFactory.create(\n",
        "    name=\"Saudi Visitors Report Agent\",\n",
        "    description=\"Fetches Saudi tourism reports and answers questions about visa regulations.\",\n",
        "    instructions=(\n",
        "        \"role: A data retrieval and answering agent for Saudi tourism reports and regulations.\"\n",
        "        \"This agent retrieves Saudi tourism data and answers questions about regulations. \"\n",
        "        \"For reports and statistics, extract the main topic from the user's query (for example, 'Tourism') and use the first utility to fetch the corresponding PDF link from the Saudi General Authority for Statistics. \"\n",
        "        \"Then pass the PDF link to the Docling tool to extract text from the document. \"\n",
        "        \"Retrieve the most relevant information based on the user's query and provide a summary along with the report link. \"\n",
        "        \"For questions about regulations or visa requirements, use the Regulations Index tool to search the pre-indexed regulations PDF and provide the most relevant answer. \"\n",
        "        \"always answer in the same langauge as requested by user\"\n",
        "    ),\n",
        "    tools=[\n",
        "        AgentFactory.create_model_tool(model=utility.id),                  # Fetch PDF links for reports\n",
        "        AgentFactory.create_model_tool(\"677bee6c6eb56331f9192a91\"),       # Docling for text extraction\n",
        "        AgentFactory.create_model_tool(model=index_util.id),              # Index for dynamic reports (Not Used)\n",
        "        index_tool_regulations                                           # Search the Regulations Index\n",
        "    ],\n",
        "    llm_id=\"6646261c6eb563165658bbb1\"\n",
        ")\n"
      ],
      "metadata": {
        "colab": {
          "base_uri": "https://localhost:8080/"
        },
        "id": "WIbPFs5_xkn6",
        "outputId": "38f520d8-93d2-4fc7-c494-b1ff0529129b"
      },
      "execution_count": 135,
      "outputs": [
        {
          "output_type": "stream",
          "name": "stderr",
          "text": [
            "/usr/local/lib/python3.11/dist-packages/aixplain/factories/agent_factory/__init__.py:83: UserWarning: Use `instructions` to define the **system prompt**. Use `description` to provide a **short summary** of the agent for metadata and dashboard display. Note: In upcoming releases, `instructions` will become a required parameter.\n",
            "  warnings.warn(\n"
          ]
        }
      ]
    },
    {
      "cell_type": "markdown",
      "source": [
        "## 6. Example Runs"
      ],
      "metadata": {
        "id": "9lR3ZV4QXGHA"
      }
    },
    {
      "cell_type": "code",
      "source": [
        "# Query stastics which will invoke the first route\n",
        "query = \"Get Tourism Statistics related number of female employees out of total employees in tourism activities , answer in arabic\"\n",
        "response = agent.run(query)"
      ],
      "metadata": {
        "id": "-y4fb1j9x2wC"
      },
      "execution_count": 136,
      "outputs": []
    },
    {
      "cell_type": "code",
      "source": [
        "# First response was requested to be in arabic\n",
        "response.data.output"
      ],
      "metadata": {
        "colab": {
          "base_uri": "https://localhost:8080/",
          "height": 35
        },
        "id": "bpftQOrFx6TJ",
        "outputId": "7321e377-f23d-40a1-e8f8-03dd6da7a1d2"
      },
      "execution_count": 137,
      "outputs": [
        {
          "output_type": "execute_result",
          "data": {
            "text/plain": [
              "'خلال الربع الرابع من عام 2024، بلغ عدد الموظفات في الأنشطة السياحية 128,559، مما يمثل نسبة 13.3% من إجمالي الموظفين في الأنشطة السياحية.'"
            ],
            "application/vnd.google.colaboratory.intrinsic+json": {
              "type": "string"
            }
          },
          "metadata": {},
          "execution_count": 137
        }
      ]
    },
    {
      "cell_type": "code",
      "source": [
        "# Intermediate steps are shown to determine if correct route was taken\n",
        "response.data.intermediate_steps"
      ],
      "metadata": {
        "colab": {
          "base_uri": "https://localhost:8080/"
        },
        "id": "ZBqwlmowDKYE",
        "outputId": "ab7acdd1-2e2b-4bdb-dd08-ae9fa82a416f"
      },
      "execution_count": 138,
      "outputs": [
        {
          "output_type": "execute_result",
          "data": {
            "text/plain": [
              "[{'agent': 'Saudi Visitors Report Agent',\n",
              "  'input': \"{'input': 'Get Tourism Statistics related number of female employees out of total employees in tourism activities , answer in arabic', 'chat_history': [], 'outputFormat': 'text'}\",\n",
              "  'output': 'خلال الربع الرابع من عام 2024، بلغ عدد الموظفات في الأنشطة السياحية 128,559، مما يمثل نسبة 13.3% من إجمالي الموظفين في الأنشطة السياحية.',\n",
              "  'tool_steps': [{'tool': 'utilities-aixplain-get_latest_sa_gov_stat',\n",
              "    'input': \"{'topic': 'Tourism'}\",\n",
              "    'output': \"{'title': 'Tourism Statistics (Establishments) Q4/2024',\\n 'link': 'https://www.stats.gov.sa/documents/20117/2435281/Tourism+Establishments+Statistics+Q4+of+2024EN.pdf/dc72eff1-38ed-895c-e9fc-e1548ea6460e?t=1745469570209'}\"},\n",
              "   {'tool': 'utilities-aixplain-docling',\n",
              "    'input': \"{'data': 'https://www.stats.gov.sa/documents/20117/2435281/Tourism+Establishments+Statistics+Q4+of+2024EN.pdf/dc72eff1-38ed-895c-e9fc-e1548ea6460e?t=1745469570209'}\",\n",
              "    'output': 'Figure5. Average length of stay by facility type (nights), (2023 -2024)\\n\\n<!-- image -->\\n\\n## Number of employees in tourism activities exceeds 966 thousand during Q4 of 2024\\n\\nThe total number of employees in tourism activities reached 531 , 966 during Q4 of 2024, reflecting an increase of 4% compared to the corresponding quarter of 2023, which was 929,404. The number of Saudi employees reached 242,073, with a participation rate of 25%. Meanwhile, the number of nonSaudi employees reached 724,458, representing a participation rate of 75% of the total employees in tourism activities (Figure1). On the other hand, the number of male employees in tourism activities reached 837,972, with a participation rate of 86.7%, while the number of female employees in tourism activities reached 128,559, with a participation rate of 13.3% of the total employees in tourism activities during Q4 of 2024.\\n\\n## Figure1. Number of employees in tourism activities by nationality (2023 -2024)\\n\\n<!-- image -->\\n\\n## Contribution of employees in tourism activities\\n\\nThe percentage of employees in tourism activities reached 5.5% of the total employees  in  the  economy  during  Q4  of  2024,  marking  a  decrease  of  0.3 percentage points compared to the corresponding quarter of 2023, which was 5.8%. The percentage of employees in tourism activities reached 8.2% of the total employees in the private sector, marking a decrease of 0.8 percentage points  compared  to  the  corresponding  quarter  of  2023,  which  was  9% (Figure2).\\n\\n## Figure2. Contribution of employees in tourism activities (%), (2023 -2024)\\n\\n<!-- image -->\\n\\n## Room occupancy rate in tourist hospitality facilities\\n\\nThe hotel room occupancy rate was approximately 56% during Q4 of 2024, marking a decrease of 4.3 percentage points compared to Q4 of 2023, which was 60.2% due to the high number of licensed hotels (see Table 1). On the other  hand,  the  room  occupancy  rate  in  serviced  apartments  and  other hospitality facilities was 55.9% during Q4 of 2024, reflecting an increase of 0.5 percentage points compared to the rate in the corresponding quarter of 2023,  which  was  55.4%  (Figure3).  Moreover,  number  of  licensed  tourism hospitality  facilities  increased  by  the  end  of  the  fourth  quarter  of  2024, reaching 4,425 hospitality  facilities,  including 2,163  hotels,  2,262  serviced apartments, and other hospitality facilities (see Table 1).\\n\\n## Figure3. Room occupancy rate by facility type (%), (2023 -2024)\\n\\n<!-- image -->\\n\\n## Table 1: Number of licensed tourist hospitality facilities\\n\\nTable 2: Key indicators of the tourism sector in the Kingdom\\n\\n| Indicators                                              | Unit   | Q4 of  2023   | Q1 of  2024   | Q2 of  2024   | Q3 of  2024   | Q4 of  2024   |\\n|---------------------------------------------------------|--------|---------------|---------------|---------------|---------------|---------------|\\n| Hotels                                                  | Number | 1,161         | 1,441         | 1,696         | 1,971         | 2,163         |\\n| Serviced  Apartments and  Other Hospitality  Facilities | Number | 1,182         | 2,361         | 1,675         | 2,027         | 2,262         |\\n| Total                                                   | Number | 2,343         | 2,802         | 3,371         | 3,998         | 4,425         |\\n\\n## Average daily room rate in tourist hospitality facilities\\n\\nThe average daily room rate in hotels was approximately SAR 440 during Q4 of 2024, reflecting an increase of 2.1% compared to the corresponding quarter of 2023, which was SAR 449 due to the high number of licensed hotels (see Table  1).  On  the  other  hand,  the  average  daily  room  rate  in  serviced apartments and other hospitality facilities was approximately SAR 220 during the same quarter, reflecting an increase of 25.1% compared to Q4 of 2023, which was SAR 176 (Figure4).\\n\\n## Figure4. Average daily room rate by facility type (SAR), (2023 -2024)\\n\\n<!-- image -->\\n\\n## Average length of stay for guests in tourist hospitality facilities\\n\\nThe average length of stay for guests in hotels was approximately 3.6 nights during Q4 of 2024, which is the same average as in the corresponding quarter of 2023 .On the other hand, the average length of stay for guests in serviced apartments  and  other  hospitality  facilities  was  approximately  2.1  nights during  the  same  quarter,  reflecting  a  decrease  of  12.1%  compared  to  the corresponding quarter of 2023, which was 2.4 nights (Figure5).\\n\\n<!-- image -->\\n\\n| Indicators                                                                                                                                              | Unit       | Q4 of  2023   | Q4 of  2024   |\\n|---------------------------------------------------------------------------------------------------------------------------------------------------------|------------|---------------|---------------|\\n| Total number of employees in tourism  activities                                                                                                        | Number     | 929,404       | 966,531       |\\n| Number of female employees out of total  employees in tourism activities                                                                                | Percentage | 13.3          | 13.3          |\\n| Contribution of employees in tourism  activities out of total employees in the  private sector                                                          | Percentage | 9             | 8.2           |\\n| Contribution of employees in tourism  activities to the total number of  employees in the government* and  private sectors, excluding domestic  workers | Percentage | 7.7           | 7.1           |\\n| Contribution of employees in tourism  activities out of total employees in the  economy                                                                 | Percentage | 5.8           | 5.5           |\\n| Room occupancy rate in serviced  apartments and other hospitality  facilities                                                                           | Percentage | 55.4          | 55.9          |\\n| Room occupancy rate in hotels                                                                                                                           | Percentage | 60.2          | 56            |\\n\\n*Includes government employees in the public sector.\\n\\n## Methodology and Quality\\n\\nThe data for the tourism establishments statistics for Q4 of 2024 is based on several sources to provide comprehensive information about tourism activities in the Kingdom of Saudi Arabia. These sources include administrative records, statistical  surveys,  and  secondary  data.  For  more  details,  please  see  the\\n\\nMethodology and Quality Report.,Table\\n\\n.'}],\n",
              "  'thought': None,\n",
              "  'runTime': 10.323,\n",
              "  'usedCredits': 0.029695000000000003,\n",
              "  'apiCalls': 3,\n",
              "  'task': None}]"
            ]
          },
          "metadata": {},
          "execution_count": 138
        }
      ]
    },
    {
      "cell_type": "code",
      "source": [
        "# Query regulations which will invoke the second route\n",
        "query = \"Get Visa Regulations regarding the application\"\n",
        "response = agent.run(query)"
      ],
      "metadata": {
        "id": "_h_MoGXWDq-o"
      },
      "execution_count": 104,
      "outputs": []
    },
    {
      "cell_type": "code",
      "source": [
        "# Second reponse is in default english\n",
        "response.data.output"
      ],
      "metadata": {
        "colab": {
          "base_uri": "https://localhost:8080/",
          "height": 137
        },
        "id": "Lh963E-qEGwy",
        "outputId": "88944894-c00e-4ab7-c829-1cdc9428548f"
      },
      "execution_count": 105,
      "outputs": [
        {
          "output_type": "execute_result",
          "data": {
            "text/plain": [
              "'The Tourist Visa Regulations for Saudi Arabia include the following key points: \\n\\n1. A Tourist Visa is an entry permit granted under specific conditions and can be issued by the Ministry of Foreign Affairs, Saudi diplomatic missions abroad, or upon arrival.\\n2. The Visa can be obtained through three main methods: upon arrival, electronically via the platform www.visitsaudi.com, or through Saudi diplomatic missions abroad.\\n3. The Visa validity varies: a one-time entry is valid for three months with a stay not exceeding one month, while multiple entries are valid for one year with a stay not exceeding three months.\\n4. Applicants must fill out a Visa Application Form, register biometric characteristics, hold a valid passport, obtain medical insurance, register their address in the Kingdom, and pay the visa fee.\\n5. The age requirement for tourists is at least 18 years unless accompanied by a guardian.\\n6. The fee for a Tourist Visa is SAR 300.\\n7. Tourists must adhere to Saudi laws, hold identification documents, and not engage in work or perform Hajj or Umrah without the appropriate visa.\\n\\nFor more detailed information, you can visit the official platform www.visitsaudi.com.'"
            ],
            "application/vnd.google.colaboratory.intrinsic+json": {
              "type": "string"
            }
          },
          "metadata": {},
          "execution_count": 105
        }
      ]
    },
    {
      "cell_type": "code",
      "source": [
        "# Intermediate steps are shown to determine if correct route was taken\n",
        "response.data.intermediate_steps"
      ],
      "metadata": {
        "colab": {
          "base_uri": "https://localhost:8080/"
        },
        "id": "isFgc8YnEJvm",
        "outputId": "ed3bcfef-18e8-4fd6-962c-3a5ff3994683"
      },
      "execution_count": 106,
      "outputs": [
        {
          "output_type": "execute_result",
          "data": {
            "text/plain": [
              "[{'agent': 'Saudi Visitors Report Agent',\n",
              "  'input': \"{'input': 'Get Visa Regulations regarding the application', 'chat_history': [], 'outputFormat': 'text'}\",\n",
              "  'output': 'The Tourist Visa Regulations for Saudi Arabia include the following key points: \\n\\n1. A Tourist Visa is an entry permit granted under specific conditions and can be issued by the Ministry of Foreign Affairs, Saudi diplomatic missions abroad, or upon arrival.\\n2. The Visa can be obtained through three main methods: upon arrival, electronically via the platform www.visitsaudi.com, or through Saudi diplomatic missions abroad.\\n3. The Visa validity varies: a one-time entry is valid for three months with a stay not exceeding one month, while multiple entries are valid for one year with a stay not exceeding three months.\\n4. Applicants must fill out a Visa Application Form, register biometric characteristics, hold a valid passport, obtain medical insurance, register their address in the Kingdom, and pay the visa fee.\\n5. The age requirement for tourists is at least 18 years unless accompanied by a guardian.\\n6. The fee for a Tourist Visa is SAR 300.\\n7. Tourists must adhere to Saudi laws, hold identification documents, and not engage in work or perform Hajj or Umrah without the appropriate visa.\\n\\nFor more detailed information, you can visit the official platform www.visitsaudi.com.',\n",
              "  'tool_steps': [{'tool': 'search-aixplain-regulations_index_tourism',\n",
              "    'input': \"{'text': 'Visa application regulations'}\",\n",
              "    'output': '[\"## Tourist Visa Regulations\\\\n\\\\n<!-- image -->\\\\n\\\\n<!-- image -->\\\\n\\\\n<!-- image -->\\\\n\\\\nThe following terms and expressions - wherever they appear in the present Regulation, shall have the meanings assigned thereto:\\\\n\\\\nLaw:\\\\n\\\\nTourism Law.\\\\n\\\\n- Regulation: Tourist Visit Visa Regulation.\\\\n\\\\nMinistry:\\\\n\\\\nMinistry of Tourism.\\\\n\\\\nMinister:\\\\n\\\\nMinister of Tourism.\\\\n\\\\n- Kingdom: Kingdom of Saudi Arabia.\\\\n- Tourist: Anyone who applies for a visa enabling them to visit the Kingdom for tourism purposes.\\\\n- Visa: Tourist Visa. It is an entry permit granted under specific conditions in accordance with the present Regulation. It shall be issued by the Ministry of Foreign Affairs and the Saudi diplomatic missions abroad or the digital embassy on the Ministry of Foreign Affairs Platform or upon arrival.\\\\n- Tourist Visa Permissions: Approval of requests to obtain Tourist Visa, issued by the Ministry.\\\\n- Tour Program Package: Package, approved by the Ministry, that is provided by the licensee for travel and tourism services. It shall be purchased by those wishing to come to the Kingdom, provided that it includes the costs of obtaining the Visa, the accommodation according to the duration of the Program, a round-trip flight, and other travel and tourism services.\\\\n- Travel and Tourism Services: Arranging and organizing services in the tourism field. They include trips and tour programs, sale and marketing of travel tickets from licensed companies, provision of visa issuance or other travel-related services, and arranging and booking services of tourism activities or tourism accommodation facilities, and similar services.\\\\n- Licensee: Every legal person having obtained a license from the Ministry in accordance with the Law and the Regulation.\\\\n\\\\n<!-- image -->\\\\n\\\\n<!-- image -->\\\\n\\\\n<!-- image -->\\\\n\\\\n<!-- image -->\\\\n\\\\n<!-- image -->\\\\n\\\\nAnyone wishing to enter the Kingdom for tourism purposes shall obtain a valid visa, unless his entry does not require it.\\\\n\\\\nThe Visa validity, according to its type, shall be as follows:\\\\n\\\\n- 1. One-time entry, in which case it shall be valid for three months, provided that the duration of the stay does not exceed one month.\\\\n- 2. Multiple entries, in which case the Visa shall be valid for one year, provided that the duration of the stay does not exceed 3 months during its validity period.\\\\n\\\\nA list of countries, whose nationals can apply for a Visa by one of the following means, shall be published on the electronic platform: www.visitsaudi.com:\\\\n\\\\nFirst: Visa upon arrival: Upon arrival at one of the Kingdom\\'s ports, the Tourist applies for a Visa, as per the list referred to in this article, after the carrier company ensures that the Tourist\\'s nationality is on the list of nationalities authorized to apply for a Visa. The Visa issuance procedures shall be completed at passport offices or selfservice machines at the Kingdom\\'s ports.\\\\n\\\\nSecond: E-Visa: When the Tourist applies for a Visa through the electronic  platform  ww.visitsaudi.com  or  any  other  electronic platform  approved  by  the  Ministry  of  Foreign  Affairs.\\\\n\\\\nThird:  Visa  through  one  of  the  Kingdom\\'s  diplomatic  missions abroad or through the digital embassy on the platform of the Ministry  of  Foreign  Affairs.\\\\n\\\\n<!-- image -->\\\\n\\\\n<!-- image -->\\\\n\\\\n<!-- image -->\\\\n\\\\n<!-- image -->\\\\n\\\\n- 1. The Tourist Visa Applicant shall carry out the following:\\\\n- a. Fill out the Visa Application Form and attach the required supporting documents.\\\\n- b. Register their biometric characteristics during the application process  or  upon  arrival.\\\\n- c. Hold a passport that is valid for no less than 6 months, taking into account the bilateral agreements concluded between  the  Kingdom  and  other  countries  concerning passport  validity.\\\\n- d. Obtain  a  medical  insurance  that  is  approved  in  the Kingdom.\\\\n- e. Register their address inside the Kingdom.\\\\n- f. Pay the visa fee.\\\\n- 2. 2. The age of the Tourist coming to the Kingdom shall not be less than (18) years, unless they are accompanied by their guardian or a safe companion.\\\\n- 1. Anyone who holds the nationality of a country that is not included in the list published on the electronic platform www. visitsaudi.com  referred  to  in  Article  (4),  can  obtain  a  Visa through one of the Kingdom\\'s diplomatic missions abroad, or through the digital embassy on the Ministry of Foreign Affairs platform, in accordance with the requirements referred to in Article (5), provided that they submit the following:\\\\n- a. Return ticket including flight itinerary. Those arriving by land or sea shall be excluded.\\\\n- b. Accommodation booking inside the Kingdom, and their personal information including their residence address in their  country.\\\\n- c. Employee identification certificate.\\\\n\\\\n<!-- image -->\\\\n\\\\n<!-- image -->\\\\n\\\\n- d. Proof of financial solvency by submitting a bank statement or salary certificate.\\\\n- 2. Exclusion from the provisions of Paragraph (1) of this Article, and treatment in accordance with Articles (4) and (5) upon requesting a Visa, shall apply to anyone who:\\\\n- a. Has  purchased  a  Tour  Program  Package,  approved  by the Ministry, prepared by the licensed Travel and Tourism Service Provider, unless the procedure requires verification of their data through one of the Kingdom\\'s diplomatic missions  abroad.\\\\n- b. Holds a valid Tourist or Business Visa - from the United States  of  America,  the  United  Kingdom,  or  one  of  the countries of the Schengen Agreement. It shall have been used at least once to enter the country granting the visa. This shall include the Visa holder\\'s first-degree relatives coming with them.\\\\n- c. Has obtained a Permanent Residence in the United States of America, or in the European Union, or in the United Kingdom. This shall include the Residence holder\\'s firstdegree relatives coming with them.\\\\n- d. Has obtained a Residence Visa - valid for a period of no less  than  three  months  -  in  the  GCC  countries,  for  the professions  published  on  www.visitsaudi.com.  This  shall include the Residence Visa holder\\'s first-degree relatives coming with them, and workers in domestic professions coming  with  their  sponsors.\\\\n\\\\nWhen examining the Visa application, the bilateral agreements and memoranda of understanding signed between the Kingdom and  other  countries  to  regulate  the  granting  of  Visit  Visas  to nationals of the two countries shall be taken into account, subject to the reciprocity principle.\\\\n\\\\n<!-- image -->\\\\n\\\\n<!-- image -->\\\\n\\\\n<!-- image -->\\\\n\\\\n<!-- image -->\\\\n\\\\n<!-- image -->\\\\n\\\\nArticle 12\\\\n\\\\n<!-- image -->\\\\n\\\\nThe Ministry shall issue Visa Permissions in accordance with the controls it sets in agreement with the Ministries of Interior and Foreign  Affairs.\\\\n\\\\nThe amount of SAR (300) shall be collected as a fee for a Tourist Visa, as prescribed by Royal Decree No. (2) dated 5/1/1441 AH.\\\\n\\\\nWhile in the Kingdom, a Tourist shall adhere to the following:\\\\n\\\\n- 1. The laws and instructions applicable in the Kingdom.\\\\n- 2. Holding identification documents at all times.\\\\n- 3. Sticking to the main purpose for which the Visa was granted.\\\\n- 4. Not performing Hajj except under a Hajj Visa.\\\\n- 5. Not performing Umrah during the Hajj season, which shall be determined by the Ministry of Hajj and Umrah.\\\\n- 6. Not engaging in any paid or unpaid work.\\\\n- 7. The validity of the Visa granted to them, and the permitted duration of stay.\\\\n\\\\nPenalties shall apply against the violator of the present Regulation, in accordance with the relevant laws.\\\\n\\\\nThe Regulation shall be issued by a decision of the Minister and shall be published in the Official Gazette. It shall come into force as of the date of its publication.\\\\n\\\\n<!-- image -->\\\\n\\\\n<!-- image -->\\\\n\\\\n<!-- image -->\\\\n\\\\n- 1. In  cases  where  no  provisions  are  stipulated  in  the  present Regulation, a decision shall be issued by the Minister after coordination  with  the  Ministries  of  (Foreign  Affairs  and Interior)  and  other  relevant  authorities.\\\\n- 2. The Minister shall have the right to interpret and amend the present Regulation after coordination with the Ministries of (Foreign Affairs and Interior).\\\\n\\\\n<!-- image -->\\\\n\\\\n<!-- image -->\"]'}],\n",
              "  'thought': None,\n",
              "  'runTime': 9.343,\n",
              "  'usedCredits': 0.025590000000000005,\n",
              "  'apiCalls': 2,\n",
              "  'task': None}]"
            ]
          },
          "metadata": {},
          "execution_count": 106
        }
      ]
    },
    {
      "cell_type": "code",
      "source": [],
      "metadata": {
        "id": "k4b9vCnzUGrK"
      },
      "execution_count": null,
      "outputs": []
    }
  ]
}